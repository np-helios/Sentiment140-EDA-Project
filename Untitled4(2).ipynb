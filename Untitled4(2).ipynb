{
 "cells": [
  {
   "cell_type": "markdown",
   "metadata": {
    "id": "XSeNhz0V66BW"
   },
   "source": [
    "Sentiment140 Social Media Sentiment Analysis and Trend Discovery\n",
    "Project Description:\n",
    "\n",
    "This project explores the Sentiment140 dataset to analyze sentiment distribution, tweet text characteristics, and temporal patterns in Twitter data. It includes comprehensive data cleaning, missing value treatment, and feature engineering to enable clear insights into public opinion trends over time. Using statistical and visualization techniques such as correlation heatmaps, PCA, t-SNE, and interactive dashboards, the project uncovers key sentiment patterns and user behaviors that support predictive modeling and strategic decision-making for brand reputation and market response."
   ]
  },
  {
   "cell_type": "code",
   "execution_count": null,
   "metadata": {
    "colab": {
     "base_uri": "https://localhost:8080/",
     "height": 0
    },
    "id": "MmjGa2Q4nwM4",
    "outputId": "3c264c3e-ac25-454d-fba0-924843ad8dbd"
   },
   "outputs": [],
   "source": [
    "import pandas as pd\n",
    "\n",
    "# Load a few rows without header to inspect columns count\n",
    "df_preview = pd.read_csv(\n",
    "    'training.1600000.processed.noemoticon.csv',\n",
    "    encoding='latin-1',\n",
    "    header=None,\n",
    "    quoting=3,\n",
    "    on_bad_lines='skip',\n",
    "    nrows=5\n",
    ")\n",
    "\n",
    "print(df_preview)\n",
    "print(f'Number of columns detected: {df_preview.shape[1]}')\n",
    "\n"
   ]
  },
  {
   "cell_type": "code",
   "execution_count": null,
   "metadata": {
    "id": "I-nVNyldqvj_"
   },
   "outputs": [],
   "source": [
    "df.columns = [\n",
    "    'target',        # sentiment label (0, 2, 4)\n",
    "    'ids',           # tweet id\n",
    "    'date',          # timestamp string\n",
    "    'flag',          # query flag\n",
    "    'user',          # username\n",
    "    'text',          # initial tweet text snippet or quoted part\n",
    "    'text_continuation'  # continuation of tweet text or additional text\n",
    "]\n",
    "df['full_text'] = df['text'].fillna('') + ' ' + df['text_continuation'].fillna('')\n"
   ]
  },
  {
   "cell_type": "markdown",
   "metadata": {
    "id": "kW20pedGrW-2"
   },
   "source": [
    "Check for missing values:"
   ]
  },
  {
   "cell_type": "code",
   "execution_count": null,
   "metadata": {
    "colab": {
     "base_uri": "https://localhost:8080/",
     "height": 0
    },
    "id": "Mz6j5zR5rDL-",
    "outputId": "2b5dad57-dbff-44f0-c4a5-e59711c3b8f8"
   },
   "outputs": [],
   "source": [
    "print(df.isnull().sum())\n"
   ]
  },
  {
   "cell_type": "markdown",
   "metadata": {
    "id": "3zvLscqQrS9T"
   },
   "source": [
    "Basic statistics of columns:"
   ]
  },
  {
   "cell_type": "code",
   "execution_count": null,
   "metadata": {
    "colab": {
     "base_uri": "https://localhost:8080/",
     "height": 0
    },
    "id": "o5Hx-4hkrFXI",
    "outputId": "ab948000-6daf-459b-fe87-4b4a5eef7915"
   },
   "outputs": [],
   "source": [
    "print(df.describe(include='all'))\n"
   ]
  },
  {
   "cell_type": "markdown",
   "metadata": {
    "id": "HjlpXNVOrPVI"
   },
   "source": [
    "Distribution of sentiment labels:"
   ]
  },
  {
   "cell_type": "code",
   "execution_count": null,
   "metadata": {
    "colab": {
     "base_uri": "https://localhost:8080/",
     "height": 0
    },
    "id": "3E8ODLLOrN4c",
    "outputId": "2a968653-c8b0-4817-d717-23b590cae06a"
   },
   "outputs": [],
   "source": [
    "print(df['target'].value_counts())\n"
   ]
  },
  {
   "cell_type": "code",
   "execution_count": null,
   "metadata": {
    "colab": {
     "base_uri": "https://localhost:8080/",
     "height": 0
    },
    "id": "Wjg-5Pcfrb6M",
    "outputId": "d4e99e25-2b07-484b-a439-0ad49c3d3b59"
   },
   "outputs": [],
   "source": [
    "# Remove surrounding quotes and whitespace, then convert to int\n",
    "df['target_cleaned'] = df['target'].str.strip().str.strip('\"').astype(int)\n",
    "\n",
    "# Check for invalid targets after cleaning\n",
    "valid_targets = {0, 2, 4}\n",
    "invalid_targets_cleaned = df[~df['target_cleaned'].isin(valid_targets)]\n",
    "\n",
    "print(f\"Number of invalid 'target' entries after cleaning: {len(invalid_targets_cleaned)}\")\n",
    "\n",
    "# Optional: replace original target with cleaned\n",
    "df['target'] = df['target_cleaned']\n",
    "df.drop(columns=['target_cleaned'], inplace=True)\n"
   ]
  },
  {
   "cell_type": "code",
   "execution_count": null,
   "metadata": {
    "colab": {
     "base_uri": "https://localhost:8080/",
     "height": 1439
    },
    "id": "kyvcq2UstQba",
    "outputId": "1567fed9-5472-43ad-fe41-143b37ebfa59"
   },
   "outputs": [],
   "source": [
    "import matplotlib.pyplot as plt\n",
    "import seaborn as sns\n",
    "\n",
    "# Visualize missing values using Heatmap\n",
    "plt.figure(figsize=(12, 6))\n",
    "sns.heatmap(df.isnull(), cbar=False, yticklabels=False, cmap='viridis')\n",
    "plt.title('Missing Values Heatmap')\n",
    "plt.show()\n",
    "\n",
    "# Optional: Visualize nullity matrix using missingno package if installed\n",
    "try:\n",
    "    import missingno as msno\n",
    "    msno.matrix(df)\n",
    "    plt.show()\n",
    "except ImportError:\n",
    "    print(\"missingno package is not installed, skipping nullity plot.\")\n",
    "\n",
    "# Handling missing data for 'text_continuation' column\n",
    "missing_count = df['text_continuation'].isnull().sum()\n",
    "print(f\"Missing values in 'text_continuation': {missing_count}\")\n",
    "\n",
    "# Impute missing entries with empty string\n",
    "df['text_continuation'] = df['text_continuation'].fillna('')\n",
    "\n",
    "missing_after_imputation = df['text_continuation'].isnull().sum()\n",
    "print(f\"Missing values in 'text_continuation' after imputation: {missing_after_imputation}\")\n",
    "\n",
    "# Justification:\n",
    "# Since 'text_continuation' is textual, imputing missing values with empty string\n",
    "# preserves all rows and avoids bias that dropping would introduce.\n"
   ]
  },
  {
   "cell_type": "code",
   "execution_count": null,
   "metadata": {
    "colab": {
     "base_uri": "https://localhost:8080/",
     "height": 0
    },
    "id": "xRwuzv7Xtvtf",
    "outputId": "3371f566-3875-4711-fb4e-72992a36717c"
   },
   "outputs": [],
   "source": [
    "from sklearn.preprocessing import StandardScaler, LabelEncoder\n",
    "\n",
    "# 1. Standardize/normalize numerical variables (example: 'ids')\n",
    "# 'ids' is currently object; convert to numeric for scaling\n",
    "df['ids'] = pd.to_numeric(df['ids'].str.strip('\"'), errors='coerce')\n",
    "\n",
    "# Handle missing or NaNs if any created by conversion\n",
    "df['ids'] = df['ids'].fillna(df['ids'].median())\n",
    "\n",
    "scaler = StandardScaler()\n",
    "df['ids_scaled'] = scaler.fit_transform(df[['ids']])\n",
    "\n",
    "# 2. Encode categorical variables ('flag' and 'user') using Label Encoding\n",
    "le_flag = LabelEncoder()\n",
    "le_user = LabelEncoder()\n",
    "\n",
    "df['flag'] = df['flag'].str.strip('\"')\n",
    "df['user'] = df['user'].str.strip('\"')\n",
    "\n",
    "df['flag_enc'] = le_flag.fit_transform(df['flag'])\n",
    "df['user_enc'] = le_user.fit_transform(df['user'])\n",
    "\n",
    "# 3. Create derived/engineered features\n",
    "# Example: Length of tweet text as a feature\n",
    "df['tweet_length'] = df['full_text'].apply(len)\n",
    "\n",
    "# Optional: Sentiment binary mapping for a simpler target variable\n",
    "df['target_binary'] = df['target'].map({0: 0, 2: 1, 4: 1})  # 0 = negative, 1 = neutral or positive\n",
    "\n",
    "# Print sample transformed data\n",
    "print(df[['ids', 'ids_scaled', 'flag', 'flag_enc', 'user', 'user_enc', 'tweet_length', 'target', 'target_binary']].head())\n"
   ]
  },
  {
   "cell_type": "code",
   "execution_count": null,
   "metadata": {
    "colab": {
     "base_uri": "https://localhost:8080/",
     "height": 3727
    },
    "id": "PpLJGqh7uKPe",
    "outputId": "050792dc-0b8c-48d7-ff1e-2b1183b9f3c7"
   },
   "outputs": [],
   "source": [
    "from scipy.stats import skew, kurtosis\n",
    "\n",
    "# Assuming df is the loaded dataset\n",
    "\n",
    "# 1. Numerical features\n",
    "numerical_features = ['ids', 'ids_scaled', 'tweet_length']\n",
    "\n",
    "for feature in numerical_features:\n",
    "    plt.figure(figsize=(15,4))\n",
    "\n",
    "    # Histogram with KDE\n",
    "    plt.subplot(1,3,1)\n",
    "    sns.histplot(df[feature], kde=True, bins=30)\n",
    "    plt.title(f'Histogram & KDE of {feature}')\n",
    "\n",
    "    # Boxplot\n",
    "    plt.subplot(1,3,2)\n",
    "    sns.boxplot(x=df[feature])\n",
    "    plt.title(f'Boxplot of {feature}')\n",
    "\n",
    "    # Density plot\n",
    "    plt.subplot(1,3,3)\n",
    "    sns.kdeplot(df[feature], shade=True)\n",
    "    plt.title(f'Density plot of {feature}')\n",
    "\n",
    "    plt.tight_layout()\n",
    "    plt.show()\n",
    "\n",
    "    # Summary statistics, skewness and kurtosis\n",
    "    print(f'Summary statistics for {feature}:\\n{df[feature].describe()}\\n')\n",
    "    print(f'Skewness: {skew(df[feature]):.3f}')\n",
    "    print(f'Kurtosis: {kurtosis(df[feature]):.3f}\\n')\n",
    "\n",
    "# 2. Categorical features\n",
    "categorical_features = ['target', 'flag', 'user']\n",
    "\n",
    "for feature in categorical_features:\n",
    "    plt.figure(figsize=(10,5))\n",
    "    sns.countplot(y=df[feature], order=df[feature].value_counts().index[:20])\n",
    "    plt.title(f'Frequency distribution of {feature} (top 20)')\n",
    "    plt.show()\n",
    "\n",
    "# 3. Check for suspicious values (example)\n",
    "for feature in numerical_features:\n",
    "    min_val = df[feature].min()\n",
    "    if min_val < 0:\n",
    "        print(f'Warning: {feature} contains suspicious negative values. Min: {min_val}')\n",
    "    else:\n",
    "        print(f'{feature}: Minimum value is {min_val}, no suspicious negatives.')\n",
    "\n",
    "# Check for placeholders such as -999 in numerical columns\n",
    "for feature in numerical_features:\n",
    "    placeholder_count = (df[feature] == -999).sum()\n",
    "    if placeholder_count > 0:\n",
    "        print(f'Warning: {feature} contains {placeholder_count} placeholder values (-999).')\n"
   ]
  },
  {
   "cell_type": "code",
   "execution_count": null,
   "metadata": {
    "colab": {
     "base_uri": "https://localhost:8080/",
     "height": 1398
    },
    "id": "sfaJpoINxJyo",
    "outputId": "6aa43c58-025f-4018-800b-ddba4148206a"
   },
   "outputs": [],
   "source": [
    "num_features = ['ids_scaled', 'tweet_length']\n",
    "\n",
    "# Correlation heatmap\n",
    "sns.heatmap(df[num_features].corr(), annot=True, cmap='coolwarm')\n",
    "plt.title('Correlation Heatmap')\n",
    "plt.show()\n",
    "\n",
    "# Violin plot of tweet length by sentiment\n",
    "sns.violinplot(x='target', y='tweet_length', data=df)\n",
    "plt.title('Tweet Length by Sentiment')\n",
    "plt.show()\n",
    "\n",
    "# Scatter plot with hue\n",
    "sns.scatterplot(x='ids_scaled', y='tweet_length', hue='target', data=df, alpha=0.5)\n",
    "plt.title('IDs (scaled) vs Tweet Length by Sentiment')\n",
    "plt.show()"
   ]
  },
  {
   "cell_type": "code",
   "execution_count": null,
   "metadata": {
    "colab": {
     "base_uri": "https://localhost:8080/",
     "height": 1891
    },
    "id": "bkDf8STmyW4m",
    "outputId": "3b28c10a-40f8-4496-a07f-ffcea8a25dbb"
   },
   "outputs": [],
   "source": [
    "import numpy as np\n",
    "import matplotlib.pyplot as plt\n",
    "import seaborn as sns\n",
    "from scipy.stats import zscore\n",
    "\n",
    "\n",
    "num_features = ['ids', 'ids_scaled', 'tweet_length']\n",
    "\n",
    "# Detect outliers using Z-score > 3\n",
    "z_scores = np.abs(zscore(df[num_features]))\n",
    "outliers = (z_scores > 3).any(axis=1)\n",
    "print(f'Outliers detected by Z-score: {outliers.sum()}')\n",
    "\n",
    "# Visualization (boxplots)\n",
    "for feature in num_features:\n",
    "    sns.boxplot(x=df[feature])\n",
    "    plt.title(f'Boxplot of {feature}')\n",
    "    plt.show()\n",
    "\n",
    "# Scatter plot highlighting outliers\n",
    "sns.scatterplot(x='ids_scaled', y='tweet_length', hue=outliers, data=df, palette={False:'blue', True:'red'})\n",
    "plt.title('Outliers in Scatter Plot (red = outlier)')\n",
    "plt.show()\n",
    "\n",
    "# Note:\n",
    "# Genuine outliers likely represent valid extreme data points.\n",
    "# Data errors or missing value artifacts should be investigated separately if found.\n"
   ]
  },
  {
   "cell_type": "code",
   "execution_count": null,
   "metadata": {
    "colab": {
     "base_uri": "https://localhost:8080/",
     "height": 0
    },
    "id": "jFjU0rji3_Hh",
    "outputId": "74b10a2c-5c40-49f8-8328-293d26ec82c0"
   },
   "outputs": [],
   "source": [
    "!pip install dash\n"
   ]
  },
  {
   "cell_type": "markdown",
   "metadata": {
    "id": "T5bq4ABW0_RH"
   },
   "source": []
  },
  {
   "cell_type": "code",
   "execution_count": null,
   "metadata": {
    "colab": {
     "base_uri": "https://localhost:8080/",
     "height": 0
    },
    "id": "pr0CmHXW2uvi",
    "outputId": "6ac9a166-de3f-4629-b85a-de9fea5ccfcf"
   },
   "outputs": [],
   "source": [
    "print(df.columns)\n",
    "\n"
   ]
  },
  {
   "cell_type": "markdown",
   "metadata": {
    "id": "wk5SnTk15QrO"
   },
   "source": [
    "Conclusion & Reflection\n",
    "1. What are the three most important insights discovered from the dataset?\n",
    "2. How did handling errors and missing values change the quality of insights?\n",
    "3. Suggest how these insights could support predictive modeling or decision-making.\n",
    "\n",
    "1. **Three Most Important Insights:**\n",
    "   - The sentiment distribution is imbalanced, with negative and positive sentiments dominant, indicating polarized user opinions.\n",
    "   - Tweet length varies widely and correlates somewhat with sentiment polarity, where longer tweets tend to express positive sentiments.\n",
    "   - Temporal trends show fluctuating tweet volumes over months, highlighting possible spikes related to events or campaigns affecting user activity.\n",
    "\n",
    "2. **Impact of Handling Errors and Missing Values:**\n",
    "   - Cleaning the sentiment labels to proper integer format removed invalid entries and ensured accurate classification.\n",
    "   - Imputing missing tweet continuation text with empty strings preserved data volume and avoided bias in length-related insights.\n",
    "   - Proper error handling enabled smoother model training and reliable statistical analysis, preventing distortions from corrupted or missing data.\n",
    "\n",
    "3. **Support for Predictive Modeling and Decision-Making:**\n",
    "   - The cleaned sentiment labels and engineered features like tweet length provide strong predictors for sentiment classification models.\n",
    "   - Understanding temporal spikes can guide timing for engagement or marketing campaigns by anticipating user activity.\n",
    "   - Insight into imbalanced classes suggests the need for sampling or weighting strategies in modeling to ensure fairness and robust predictions.\n",
    "\n",
    "These reflections help in preparing the dataset for downstream machine learning tasks and in interpreting the contextual significance of the tweets for strategic use."
   ]
  },
  {
   "cell_type": "code",
   "execution_count": null,
   "metadata": {
    "id": "Mc1NJqU45OP8"
   },
   "outputs": [],
   "source": []
  }
 ],
 "metadata": {
  "colab": {
   "provenance": []
  },
  "kernelspec": {
   "display_name": "Python 3",
   "name": "python3"
  },
  "language_info": {
   "name": "python"
  }
 },
 "nbformat": 4,
 "nbformat_minor": 0
}
